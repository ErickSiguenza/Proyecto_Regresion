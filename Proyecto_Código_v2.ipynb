{
 "cells": [
  {
   "cell_type": "markdown",
   "metadata": {},
   "source": [
    "### Regresión lineal en el conjunto de datos de vivienda de Boston"
   ]
  },
  {
   "cell_type": "markdown",
   "metadata": {},
   "source": [
    "En mi blog anterior , cubrí los conceptos básicos de la regresión lineal y el descenso de gradientes. Para obtener una regresión lineal práctica, tomaremos un conjunto de datos original y aplicaremos los conceptos que hemos aprendido.\n",
    "Tomaremos el conjunto de datos de Vivienda, que contiene información sobre D i casas ferentes en Boston. Estos datos originalmente formaban parte del Repositorio de aprendizaje automático de UCI y ahora se han eliminado. También podemos acceder a estos datos desde la biblioteca scikit-learn. Hay 506 muestras y 13 variables de características en este conjunto de datos. El objetivo es predecir el valor de los precios de la casa utilizando las características dadas.\n",
    "Entonces empecemos.\n",
    "\n",
    "Primero, importaremos las bibliotecas necesarias."
   ]
  },
  {
   "cell_type": "markdown",
   "metadata": {},
   "source": [
    "Data fields\n",
    "Here's a brief version of what you'll find in the data description file.\n",
    "\n",
    "SalePrice - the property's sale price in dollars. This is the target variable that you're trying to predict.\n",
    "\n",
    "\n",
    "OverallQual: Overall material and finish quality, rates the overall material and finish of the house\n",
    "\n",
    "       10\tVery Excellent\n",
    "       9\tExcellent\n",
    "       8\tVery Good\n",
    "       7\tGood\n",
    "       6\tAbove Average\n",
    "       5\tAverage\n",
    "       4\tBelow Average\n",
    "       3\tFair\n",
    "       2\tPoor\n",
    "       1\tVery Poor\n",
    "       \n",
    "       \n",
    "1stFlrSF: First Floor square feet\n",
    "\n",
    "TotRmsAbvGrd: Total rooms above grade (does not include bathrooms)\n",
    "\n",
    "YearBuilt: Original construction date\n",
    "\n",
    "LotFrontage: Linear feet of street connected to property\n"
   ]
  },
  {
   "cell_type": "code",
   "execution_count": 1,
   "metadata": {},
   "outputs": [],
   "source": [
    "import numpy as np\n",
    "import matplotlib.pyplot as plt \n",
    "\n",
    "import pandas as pd  \n",
    "import seaborn as sns \n",
    "\n",
    "from sklearn import linear_model\n",
    "from sklearn.model_selection import train_test_split\n",
    "\n",
    "%matplotlib inline"
   ]
  },
  {
   "cell_type": "markdown",
   "metadata": {},
   "source": [
    "A continuación, cargaremos los datos de vivienda de la biblioteca scikit-learn y los entenderemos."
   ]
  },
  {
   "cell_type": "code",
   "execution_count": 2,
   "metadata": {},
   "outputs": [
    {
     "data": {
      "text/html": [
       "<div>\n",
       "<style scoped>\n",
       "    .dataframe tbody tr th:only-of-type {\n",
       "        vertical-align: middle;\n",
       "    }\n",
       "\n",
       "    .dataframe tbody tr th {\n",
       "        vertical-align: top;\n",
       "    }\n",
       "\n",
       "    .dataframe thead th {\n",
       "        text-align: right;\n",
       "    }\n",
       "</style>\n",
       "<table border=\"1\" class=\"dataframe\">\n",
       "  <thead>\n",
       "    <tr style=\"text-align: right;\">\n",
       "      <th></th>\n",
       "      <th>SalePrice</th>\n",
       "      <th>OverallQual</th>\n",
       "      <th>1stFlrSF</th>\n",
       "      <th>TotRmsAbvGrd</th>\n",
       "      <th>YearBuilt</th>\n",
       "      <th>LotFrontage</th>\n",
       "    </tr>\n",
       "  </thead>\n",
       "  <tbody>\n",
       "    <tr>\n",
       "      <th>0</th>\n",
       "      <td>208500.0</td>\n",
       "      <td>7.0</td>\n",
       "      <td>856.0</td>\n",
       "      <td>8.0</td>\n",
       "      <td>2003.0</td>\n",
       "      <td>65.0</td>\n",
       "    </tr>\n",
       "    <tr>\n",
       "      <th>1</th>\n",
       "      <td>181500.0</td>\n",
       "      <td>6.0</td>\n",
       "      <td>1262.0</td>\n",
       "      <td>6.0</td>\n",
       "      <td>1976.0</td>\n",
       "      <td>80.0</td>\n",
       "    </tr>\n",
       "    <tr>\n",
       "      <th>2</th>\n",
       "      <td>223500.0</td>\n",
       "      <td>7.0</td>\n",
       "      <td>920.0</td>\n",
       "      <td>6.0</td>\n",
       "      <td>2001.0</td>\n",
       "      <td>68.0</td>\n",
       "    </tr>\n",
       "    <tr>\n",
       "      <th>3</th>\n",
       "      <td>140000.0</td>\n",
       "      <td>7.0</td>\n",
       "      <td>961.0</td>\n",
       "      <td>7.0</td>\n",
       "      <td>1915.0</td>\n",
       "      <td>60.0</td>\n",
       "    </tr>\n",
       "    <tr>\n",
       "      <th>4</th>\n",
       "      <td>250000.0</td>\n",
       "      <td>8.0</td>\n",
       "      <td>1145.0</td>\n",
       "      <td>9.0</td>\n",
       "      <td>2000.0</td>\n",
       "      <td>84.0</td>\n",
       "    </tr>\n",
       "  </tbody>\n",
       "</table>\n",
       "</div>"
      ],
      "text/plain": [
       "   SalePrice  OverallQual  1stFlrSF  TotRmsAbvGrd  YearBuilt  LotFrontage\n",
       "0   208500.0          7.0     856.0           8.0     2003.0         65.0\n",
       "1   181500.0          6.0    1262.0           6.0     1976.0         80.0\n",
       "2   223500.0          7.0     920.0           6.0     2001.0         68.0\n",
       "3   140000.0          7.0     961.0           7.0     1915.0         60.0\n",
       "4   250000.0          8.0    1145.0           9.0     2000.0         84.0"
      ]
     },
     "execution_count": 2,
     "metadata": {},
     "output_type": "execute_result"
    }
   ],
   "source": [
    "# Cargar los datos \n",
    "datos = np.load(\"proyecto_training_data.npy\")\n",
    "datosnumpy = np.load(\"proyecto_training_data.npy\")\n",
    "df=pd.DataFrame(datos,columns=[\"SalePrice\",\"OverallQual\",\"1stFlrSF\",\"TotRmsAbvGrd\",\"YearBuilt\",\"LotFrontage\"])\n",
    "df.head()"
   ]
  },
  {
   "cell_type": "code",
   "execution_count": 3,
   "metadata": {},
   "outputs": [
    {
     "data": {
      "text/html": [
       "<div>\n",
       "<style scoped>\n",
       "    .dataframe tbody tr th:only-of-type {\n",
       "        vertical-align: middle;\n",
       "    }\n",
       "\n",
       "    .dataframe tbody tr th {\n",
       "        vertical-align: top;\n",
       "    }\n",
       "\n",
       "    .dataframe thead th {\n",
       "        text-align: right;\n",
       "    }\n",
       "</style>\n",
       "<table border=\"1\" class=\"dataframe\">\n",
       "  <thead>\n",
       "    <tr style=\"text-align: right;\">\n",
       "      <th></th>\n",
       "      <th>SalePrice</th>\n",
       "      <th>OverallQual</th>\n",
       "      <th>1stFlrSF</th>\n",
       "      <th>TotRmsAbvGrd</th>\n",
       "      <th>YearBuilt</th>\n",
       "      <th>LotFrontage</th>\n",
       "    </tr>\n",
       "  </thead>\n",
       "  <tbody>\n",
       "    <tr>\n",
       "      <th>count</th>\n",
       "      <td>1460.000000</td>\n",
       "      <td>1460.000000</td>\n",
       "      <td>1460.000000</td>\n",
       "      <td>1460.000000</td>\n",
       "      <td>1460.000000</td>\n",
       "      <td>1201.000000</td>\n",
       "    </tr>\n",
       "    <tr>\n",
       "      <th>mean</th>\n",
       "      <td>180921.195890</td>\n",
       "      <td>6.099315</td>\n",
       "      <td>1162.626712</td>\n",
       "      <td>6.517808</td>\n",
       "      <td>1971.267808</td>\n",
       "      <td>70.049958</td>\n",
       "    </tr>\n",
       "    <tr>\n",
       "      <th>std</th>\n",
       "      <td>79442.502883</td>\n",
       "      <td>1.382997</td>\n",
       "      <td>386.587738</td>\n",
       "      <td>1.625393</td>\n",
       "      <td>30.202904</td>\n",
       "      <td>24.284752</td>\n",
       "    </tr>\n",
       "    <tr>\n",
       "      <th>min</th>\n",
       "      <td>34900.000000</td>\n",
       "      <td>1.000000</td>\n",
       "      <td>334.000000</td>\n",
       "      <td>2.000000</td>\n",
       "      <td>1872.000000</td>\n",
       "      <td>21.000000</td>\n",
       "    </tr>\n",
       "    <tr>\n",
       "      <th>25%</th>\n",
       "      <td>129975.000000</td>\n",
       "      <td>5.000000</td>\n",
       "      <td>882.000000</td>\n",
       "      <td>5.000000</td>\n",
       "      <td>1954.000000</td>\n",
       "      <td>59.000000</td>\n",
       "    </tr>\n",
       "    <tr>\n",
       "      <th>50%</th>\n",
       "      <td>163000.000000</td>\n",
       "      <td>6.000000</td>\n",
       "      <td>1087.000000</td>\n",
       "      <td>6.000000</td>\n",
       "      <td>1973.000000</td>\n",
       "      <td>69.000000</td>\n",
       "    </tr>\n",
       "    <tr>\n",
       "      <th>75%</th>\n",
       "      <td>214000.000000</td>\n",
       "      <td>7.000000</td>\n",
       "      <td>1391.250000</td>\n",
       "      <td>7.000000</td>\n",
       "      <td>2000.000000</td>\n",
       "      <td>80.000000</td>\n",
       "    </tr>\n",
       "    <tr>\n",
       "      <th>max</th>\n",
       "      <td>755000.000000</td>\n",
       "      <td>10.000000</td>\n",
       "      <td>4692.000000</td>\n",
       "      <td>14.000000</td>\n",
       "      <td>2010.000000</td>\n",
       "      <td>313.000000</td>\n",
       "    </tr>\n",
       "  </tbody>\n",
       "</table>\n",
       "</div>"
      ],
      "text/plain": [
       "           SalePrice  OverallQual     1stFlrSF  TotRmsAbvGrd    YearBuilt  \\\n",
       "count    1460.000000  1460.000000  1460.000000   1460.000000  1460.000000   \n",
       "mean   180921.195890     6.099315  1162.626712      6.517808  1971.267808   \n",
       "std     79442.502883     1.382997   386.587738      1.625393    30.202904   \n",
       "min     34900.000000     1.000000   334.000000      2.000000  1872.000000   \n",
       "25%    129975.000000     5.000000   882.000000      5.000000  1954.000000   \n",
       "50%    163000.000000     6.000000  1087.000000      6.000000  1973.000000   \n",
       "75%    214000.000000     7.000000  1391.250000      7.000000  2000.000000   \n",
       "max    755000.000000    10.000000  4692.000000     14.000000  2010.000000   \n",
       "\n",
       "       LotFrontage  \n",
       "count  1201.000000  \n",
       "mean     70.049958  \n",
       "std      24.284752  \n",
       "min      21.000000  \n",
       "25%      59.000000  \n",
       "50%      69.000000  \n",
       "75%      80.000000  \n",
       "max     313.000000  "
      ]
     },
     "execution_count": 3,
     "metadata": {},
     "output_type": "execute_result"
    }
   ],
   "source": [
    "df.describe()"
   ]
  },
  {
   "cell_type": "code",
   "execution_count": 4,
   "metadata": {},
   "outputs": [
    {
     "data": {
      "text/plain": [
       "array([[<matplotlib.axes._subplots.AxesSubplot object at 0x000001DAD750AEC8>,\n",
       "        <matplotlib.axes._subplots.AxesSubplot object at 0x000001DAD7BE0A08>],\n",
       "       [<matplotlib.axes._subplots.AxesSubplot object at 0x000001DAD7C1E7C8>,\n",
       "        <matplotlib.axes._subplots.AxesSubplot object at 0x000001DAD7C56948>],\n",
       "       [<matplotlib.axes._subplots.AxesSubplot object at 0x000001DAD7C90988>,\n",
       "        <matplotlib.axes._subplots.AxesSubplot object at 0x000001DAD7CC7A88>]],\n",
       "      dtype=object)"
      ]
     },
     "execution_count": 4,
     "metadata": {},
     "output_type": "execute_result"
    },
    {
     "data": {
      "image/png": "[encoded data removed]",
      "text/plain": [
       "<Figure size 1080x1224 with 6 Axes>"
      ]
     },
     "metadata": {
      "needs_background": "light"
     },
     "output_type": "display_data"
    }
   ],
   "source": [
    "df.hist(figsize=(15,17))\n"
   ]
  },
  {
   "cell_type": "code",
   "execution_count": 5,
   "metadata": {},
   "outputs": [
    {
     "data": {
      "text/plain": [
       "<matplotlib.axes._subplots.AxesSubplot at 0x1dad7eadd08>"
      ]
     },
     "execution_count": 5,
     "metadata": {},
     "output_type": "execute_result"
    },
    {
     "data": {
      "image/png": "[encoded data removed]",
      "text/plain": [
       "<Figure size 432x288 with 1 Axes>"
      ]
     },
     "metadata": {
      "needs_background": "light"
     },
     "output_type": "display_data"
    }
   ],
   "source": [
    "sns.distplot(df[\"YearBuilt\"])"
   ]
  },
  {
   "cell_type": "code",
   "execution_count": 6,
   "metadata": {},
   "outputs": [],
   "source": [
    "y=df[\"SalePrice\"]"
   ]
  },
  {
   "cell_type": "code",
   "execution_count": 7,
   "metadata": {},
   "outputs": [],
   "source": [
    "df.drop([\"SalePrice\"],axis=1,inplace=True) #quitamos la columna saleprice = y"
   ]
  },
  {
   "cell_type": "code",
   "execution_count": 9,
   "metadata": {},
   "outputs": [
    {
     "data": {
      "text/plain": [
       "(1460, 5)"
      ]
     },
     "execution_count": 9,
     "metadata": {},
     "output_type": "execute_result"
    }
   ],
   "source": [
    "X=datosnumpy[:,1:]\n",
    "y=datosnumpy[:,0]\n",
    "X.shape\n",
    "#print(X.shape)"
   ]
  },
  {
   "cell_type": "code",
   "execution_count": 10,
   "metadata": {},
   "outputs": [],
   "source": [
    "spl=0.8\n",
    "n=len(y)\n",
    "sample=int(spl*n)\n",
    "\n",
    "X_train, X_test, y_train, y_test = X[:sample,:],X[sample:,:], y[:sample],y[sample:] # tomar de 0 a 80% - tomar de 80% en adelante "
   ]
  },
  {
   "cell_type": "code",
   "execution_count": 11,
   "metadata": {},
   "outputs": [],
   "source": [
    "y_train = y_train.reshape(-1,1)\n",
    "y_test = y_test.reshape(-1,1)"
   ]
  },
  {
   "cell_type": "code",
   "execution_count": 12,
   "metadata": {},
   "outputs": [],
   "source": [
    "oqtrain=X_train[:,0].reshape(-1,1)\n",
    "oqtest=X_test[:,0].reshape(-1,1)\n",
    "pisotrain=X_train[:,1].reshape(-1,1)\n",
    "pisotest=X_test[:,1].reshape(-1,1)\n",
    "cuartotrain=X_train[:,2].reshape(-1,1)\n",
    "cuartotest=X_test[:,2].reshape(-1,1)\n",
    "aniotrain=X_train[:,3].reshape(-1,1)\n",
    "aniotest=X_test[:,3].reshape(-1,1)\n",
    "piestrain=X_train[:,4].reshape(-1,1)\n",
    "piestest=X_test[:,4].reshape(-1,1)"
   ]
  },
  {
   "cell_type": "code",
   "execution_count": 13,
   "metadata": {},
   "outputs": [],
   "source": [
    "def funcion_costo(X, y, theta):\n",
    "    h = X @ theta\n",
    "    return ((y - h) ** 2).sum() / (2 * len(X))\n",
    "\n",
    "def costo_gradiente(X, y, theta):\n",
    "    h = X @ theta\n",
    "    return (X.T @ (h - y)) / len(X)\n",
    "\n",
    "def descenso_gradiente(X, y, theta_0, linear_function, linear_gradient, learning_rate=0.0000001, threshold= 2, \n",
    "                        max_iter=1000, imprimir_error_cada=None\n",
    "                        ):\n",
    "    theta = theta_0\n",
    "    iteration = 0\n",
    "    costs = []\n",
    "    thetas = []\n",
    "    n=len(X)\n",
    "    columna_unos=np.ones((n,1))\n",
    "    X = np.hstack((columna_unos,X))\n",
    "\n",
    "    while np.linalg.norm(linear_gradient(X, y, theta)) > threshold and iteration < max_iter:\n",
    "        iteration += 1\n",
    "        theta = theta - learning_rate * linear_gradient(X, y, theta)\n",
    "        costs.append(linear_function(X, y, theta))\n",
    "        thetas.append(theta.copy())\n",
    "\n",
    "                \n",
    "    return theta, costs, thetas, X"
   ]
  },
  {
   "cell_type": "code",
   "execution_count": 14,
   "metadata": {},
   "outputs": [
    {
     "ename": "NameError",
     "evalue": "name 'imprimir_error_cada' is not defined",
     "output_type": "error",
     "traceback": [
      "\u001b[1;31m---------------------------------------------------------------------------\u001b[0m",
      "\u001b[1;31mNameError\u001b[0m                                 Traceback (most recent call last)",
      "\u001b[1;32m<ipython-input-14-5ffc47bc27b6>\u001b[0m in \u001b[0;36m<module>\u001b[1;34m\u001b[0m\n\u001b[1;32m----> 1\u001b[1;33m \u001b[1;32mif\u001b[0m \u001b[0mimprimir_error_cada\u001b[0m \u001b[1;33m!=\u001b[0m \u001b[1;32mNone\u001b[0m\u001b[1;33m:\u001b[0m\u001b[1;33m\u001b[0m\u001b[1;33m\u001b[0m\u001b[0m\n\u001b[0m\u001b[0;32m      2\u001b[0m     \u001b[1;32mif\u001b[0m \u001b[0miteration\u001b[0m\u001b[1;33m%\u001b[0m\u001b[0mimprimir_error_cada\u001b[0m \u001b[1;33m==\u001b[0m \u001b[1;36m0\u001b[0m\u001b[1;33m:\u001b[0m\u001b[1;33m\u001b[0m\u001b[1;33m\u001b[0m\u001b[0m\n\u001b[0;32m      3\u001b[0m         \u001b[0mprint\u001b[0m\u001b[1;33m(\u001b[0m\u001b[0mcosts\u001b[0m\u001b[1;33m[\u001b[0m\u001b[0miteration\u001b[0m\u001b[1;33m]\u001b[0m\u001b[1;33m)\u001b[0m\u001b[1;33m\u001b[0m\u001b[1;33m\u001b[0m\u001b[0m\n",
      "\u001b[1;31mNameError\u001b[0m: name 'imprimir_error_cada' is not defined"
     ]
    }
   ],
   "source": [
    "if imprimir_error_cada != None:\n",
    "    if iteration%imprimir_error_cada == 0:\n",
    "        print(costs[iteration])"
   ]
  },
  {
   "cell_type": "code",
   "execution_count": 15,
   "metadata": {},
   "outputs": [
    {
     "data": {
      "text/plain": [
       "array([[0.98754707],\n",
       "       [0.08038974]])"
      ]
     },
     "execution_count": 15,
     "metadata": {},
     "output_type": "execute_result"
    }
   ],
   "source": [
    "valores_m=np.random.rand(2,1)\n",
    "valores_m"
   ]
  },
  {
   "cell_type": "code",
   "execution_count": 24,
   "metadata": {},
   "outputs": [],
   "source": [
    "thetas_arr, costs_arr, thetas1, x_procesado = descenso_gradiente(oqtrain,\n",
    "                                                                    y_train, \n",
    "                                                                    valores_m, \n",
    "                                                                    funcion_costo, \n",
    "                                                                    costo_gradiente, \n",
    "                                                                    imprimir_error_cada=500)"
   ]
  },
  {
   "cell_type": "code",
   "execution_count": 25,
   "metadata": {},
   "outputs": [
    {
     "data": {
      "text/plain": [
       "array([[ 19.0093724 ],\n",
       "       [118.63692562]])"
      ]
     },
     "execution_count": 25,
     "metadata": {},
     "output_type": "execute_result"
    }
   ],
   "source": [
    "thetas_arr"
   ]
  },
  {
   "cell_type": "code",
   "execution_count": 26,
   "metadata": {},
   "outputs": [
    {
     "data": {
      "image/png": "[encoded data removed]",
      "text/plain": [
       "<Figure size 432x288 with 1 Axes>"
      ]
     },
     "metadata": {
      "needs_background": "light"
     },
     "output_type": "display_data"
    }
   ],
   "source": [
    "xrow = np.arange(0,1000,1).reshape(-1,1)\n",
    "plt.scatter(xrow, costs_arr)\n",
    "plt.show()"
   ]
  },
  {
   "cell_type": "code",
   "execution_count": 27,
   "metadata": {},
   "outputs": [
    {
     "data": {
      "text/plain": [
       "19265643925.9322"
      ]
     },
     "execution_count": 27,
     "metadata": {},
     "output_type": "execute_result"
    }
   ],
   "source": [
    "costs_arr[-1]"
   ]
  },
  {
   "cell_type": "code",
   "execution_count": 28,
   "metadata": {},
   "outputs": [
    {
     "data": {
      "image/png": "[encoded data removed]",
      "text/plain": [
       "<Figure size 432x288 with 1 Axes>"
      ]
     },
     "metadata": {
      "needs_background": "light"
     },
     "output_type": "display_data"
    }
   ],
   "source": [
    "plt.scatter(x_procesado[:,1], y_train)\n",
    "plt.plot(x_procesado[:,1], x_procesado @ thetas_arr, color='green')\n",
    "plt.show()"
   ]
  },
  {
   "cell_type": "markdown",
   "metadata": {},
   "source": [
    "# ---------------------------------------------------------------"
   ]
  }
 ],
 "metadata": {
  "kernelspec": {
   "display_name": "Python 3",
   "language": "python",
   "name": "python3"
  },
  "language_info": {
   "codemirror_mode": {
    "name": "ipython",
    "version": 3
   },
   "file_extension": ".py",
   "mimetype": "text/x-python",
   "name": "python",
   "nbconvert_exporter": "python",
   "pygments_lexer": "ipython3",
   "version": "3.7.6"
  }
 },
 "nbformat": 4,
 "nbformat_minor": 4
}
